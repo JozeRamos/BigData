{
  "cells": [
    {
      "cell_type": "markdown",
      "metadata": {
        "id": "view-in-github",
        "colab_type": "text"
      },
      "source": [
        "<a href=\"https://colab.research.google.com/github/JozeRamos/BigData/blob/main/HW2.ipynb\" target=\"_parent\"><img src=\"https://colab.research.google.com/assets/colab-badge.svg\" alt=\"Open In Colab\"/></a>"
      ]
    },
    {
      "cell_type": "markdown",
      "source": [
        "# Big Data Computing 2024 - Homework 2 - Deadline: December 22$^{nd}$, 11.59pm"
      ],
      "metadata": {
        "id": "iLEDVWoS_dCV"
      }
    },
    {
      "cell_type": "markdown",
      "source": [
        "# Instructions for the homework\n",
        "  > Follow the instructions in the notebook carefully\n"
      ],
      "metadata": {
        "id": "y0YCjaUt_2Af"
      }
    },
    {
      "cell_type": "markdown",
      "source": [
        "\n",
        "## General instructions\n",
        "  * Do NOT remove ANYTHING that is already in the notebook.\n",
        "  * Before you start, show the line number for the code cells:\n",
        "    * Go to Tools -> Settings -> Editor -> show line numbers\n",
        "  * The group in the second Homework **MUST BE EXACTLY THE SAME** as in Homework 1\n",
        "  * The software must be commented.\n",
        "  * About this notebook:\n",
        "    * Create a personal copy to be able to modify it: File > Save a copy in Drive\n",
        "    * Rename the copied notebook `BDC2024-HW2.ipynb`"
      ],
      "metadata": {
        "id": "GUjIJyz8_8fB"
      }
    },
    {
      "cell_type": "markdown",
      "source": [
        "\n",
        "## Instructions for **code**:\n",
        "  * DO NOT add code cells\n",
        "  * DO NOT remove any code cells\n",
        "  * Only edit the code cells containing the comment `#YOUR CODE STARTS HERE#`. Within those cells:\n",
        "    * DO NOT remove ANYTHING that we have written (otherwise specified).\n",
        "    * Add your code between line `#YOUR CODE STARTS HERE#` and line `#YOUR CODE ENDS HERE#`; **DO NOT REMOVE THESE COMMENTS**\n",
        "\n",
        "> Ensure that the notebook can be faithfully reproduced by anyone (hint: pseudo random number generation).\n",
        "\n",
        "> **If you need to set a random seed, set it to `1224`.**\n",
        "\n",
        "[comment]: <> (#REMOVE_CELL#)"
      ],
      "metadata": {
        "id": "Tjom-aYsAj00"
      }
    },
    {
      "cell_type": "markdown",
      "source": [
        "\n",
        "## Instructions for **text**:\n",
        "* DO NOT add text cells\n",
        "* DO NOT remove text cells\n",
        "* DO NOT modify the text cells we have created.\n",
        "* Only edit text cells starting with the comment ------------YOUR TEXT STARTS HERE------------. Within those cells:\n",
        "  * Do NOT remove anything we have entered.\n",
        "  * **Add your own text after the line ------------YOUR TEXT STARTS HERE------------; DO NOT REMOVE THIS TEXT**\n",
        "  * For each cell, a specific delivery will be given. If you are given a maximum number of sentences to write, both the dot \".\" and the semicolon \";\" will be considered sentence dividers.\n",
        "\n",
        "[comment]: <> (#REMOVE_CELL#)"
      ],
      "metadata": {
        "id": "_s_NvP_DBCZ8"
      }
    },
    {
      "cell_type": "markdown",
      "source": [
        "\n",
        "## *Evaluation*\n",
        "\n",
        "The homework will be evaluated based on the following criteria:\n",
        "\n",
        "1. **Code Quality**: correctness, readability (length, comments, unnecessary repetitions)\n",
        "2. **Quality of Textual Responses**: correctness, clarity, etc.\n",
        "3. **Quality of Produced Visualizations** (tables/figures/etc.): correctness, clarity, etc.\n",
        "4. **Quality**, **quantity** and **diversity** of experiments conducted, **results** achieved, etc. \\[if applicable; will be clearly indicated\\]\n",
        "5. **Timely Submission**: late submissions will result in significant point deductions\n",
        "6. **Plagiarism**: copying code/text from colleagues or online sources will result in significant point deductions \\[it will be clearly indicated if borrowing code from other sources is allowed\\]\n",
        "\n",
        "*You are expected to work in a principled way, being aware of what you are doing and why*\n",
        "\n",
        "[comment]: <> (#REMOVE_CELL#)"
      ],
      "metadata": {
        "id": "fHGXI-zXBLKg"
      }
    },
    {
      "cell_type": "markdown",
      "source": [
        "## Group Composition\n",
        "Write down the list of group members. The format should be Last Name, First Name, Student ID. Group members should be sorted alphabetically by surname and placed on different lines.\n",
        "Example:\n",
        "\n",
        "Becchetti, Luca, 123456\n",
        "\n",
        "Siciliano, Federico, 987654\n",
        "\n",
        "**Remember:** your group in the second homework must be the same as in the first one."
      ],
      "metadata": {
        "id": "JQzZjn-JBV_8"
      }
    },
    {
      "cell_type": "markdown",
      "source": [
        "\n",
        "\n",
        "## Submission (read carefully)\n",
        "\n",
        "1. This notebook is one of two parts of a Google Classroom assignment, hence it should be delivered using Google Classroom. Your delivery for Homework 2 will thus consist of two files (like for Homework 1): i) this notebook; ii) a pdf with your answers to the theoretical assignments.\n",
        "2. Each notebook should be delivered *only once*, by the student whose last name comes first in alphabetical order in your group. So for example, if the group consists of Luca Becchetti and Federico Siciliano, Luca Becchetti (and *he only*) will deliver the homework (Federico Siciliano might well pay attention that Luca Becchetti actually does so within the mandatory deadline :-))\n",
        "3. You can upload multiple files as part of the same assignment in Google Classroom. Please be sure that you only press the Classroom's \"hand in\" button (\"Consegna\" in Italian) after you have uploaded the final versions of this notebook and of the pdf containing your answers to the theoretical questions."
      ],
      "metadata": {
        "id": "mkXmH72vBowy"
      }
    },
    {
      "cell_type": "markdown",
      "source": [
        "## Homework 2 (notebook)\n",
        "We want to perform topic distillation/[keyword extraction](https://en.wikipedia.org/wiki/Keyword_extraction) using the techniques seen in class, in particular: 1) $k$-means preceeded by dimensionality reduction techniques and 2) SVD or PCA alone, as seen in class. You will use the [20 newsgroups dataset](https://scikit-learn.org/0.19/datasets/twenty_newsgroups.html), in particular the ```['comp.graphics', 'rec.motorcycles', 'rec.sport.baseball', 'sci.space', 'talk.religion.misc']```categories."
      ],
      "metadata": {
        "id": "--lB3UeWCG75"
      }
    },
    {
      "cell_type": "markdown",
      "source": [
        "##Software and dataset\n",
        "Use the cell below to import **ALL** Python packages that you need for this homework.\n",
        "\n",
        "Add them in this cell as you proceed with the implementation\n"
      ],
      "metadata": {
        "id": "j7ny7DzOzFAZ"
      }
    },
    {
      "cell_type": "code",
      "source": [
        "#REMOVE_OUTPUT#\n",
        "!pip install --upgrade --no-cache-dir gdown\n",
        "#YOUR CODE STARTS HERE#\n",
        "\n",
        "\n",
        "\n",
        "\n",
        "\n",
        "\n",
        "\n",
        "\n",
        "\n",
        "\n",
        "#YOUR CODE ENDS HERE#\n",
        "#THIS IS LINE 15#"
      ],
      "metadata": {
        "id": "fZmrdQkwzJiq"
      },
      "execution_count": null,
      "outputs": []
    },
    {
      "cell_type": "markdown",
      "source": [
        "Next, download the dataset as specified earlier"
      ],
      "metadata": {
        "id": "SA8vLWVq2ELF"
      }
    },
    {
      "cell_type": "code",
      "source": [
        "#YOUR CODE STARTS HERE#\n",
        "\n",
        "\n",
        "\n",
        "\n",
        "\n",
        "\n",
        "\n",
        "#YOUR CODE ENDS HERE#\n",
        "#THIS IS LINE 10#"
      ],
      "metadata": {
        "id": "n49l2ZXI2Ogm"
      },
      "execution_count": null,
      "outputs": []
    },
    {
      "cell_type": "markdown",
      "source": [
        "## Part 1 - keyword extraction/topic distillation using $k$-means\n",
        "As a baseline, cluster documents using standard $k$-means. The number of clusters will be equal to the number of categories you downloaded. Quality will be measured as follows:\n",
        "- Soundness of identified keywords: build word clouds of 20 most important keywords for each cluster\n",
        "- Time efficiency\n",
        "- Clustering quality with respect to true labels: [Adjusted Rand Index](https://en.wikipedia.org/wiki/Rand_index) (see scikit-learn documentation about)\n",
        "\n",
        "This part must run within a maximum of **15** minutes. To meet this constraint, approximations can be made (using fewer documents, reducing dictionary size). However, these approximations **must be explicitly indicated** in the code."
      ],
      "metadata": {
        "id": "0BPC3hfC0EGp"
      }
    },
    {
      "cell_type": "markdown",
      "source": [
        "### 1.1\n",
        "If you need to, prepare here helper functions to run your computations."
      ],
      "metadata": {
        "id": "xLR_WVyh4cb1"
      }
    },
    {
      "cell_type": "code",
      "source": [
        "#YOUR CODE STARTS HERE#\n",
        "\n",
        "\n",
        "\n",
        "\n",
        "\n",
        "\n",
        "\n",
        "\n",
        "\n",
        "\n",
        "\n",
        "\n",
        "\n",
        "\n",
        "\n",
        "\n",
        "\n",
        "\n",
        "\n",
        "\n",
        "\n",
        "\n",
        "\n",
        "\n",
        "\n",
        "\n",
        "\n",
        "\n",
        "\n",
        "\n",
        "\n",
        "\n",
        "\n",
        "\n",
        "\n",
        "\n",
        "\n",
        "#YOUR CODE ENDS HERE#\n",
        "#THIS IS LINE 40#"
      ],
      "metadata": {
        "id": "b2LxMygm4iOT"
      },
      "execution_count": null,
      "outputs": []
    },
    {
      "cell_type": "markdown",
      "source": [
        "###1.2\n",
        "Text pre-processing and vectorization goes here"
      ],
      "metadata": {
        "id": "R60nnZvM4__x"
      }
    },
    {
      "cell_type": "code",
      "source": [
        "#YOUR CODE STARTS HERE#\n",
        "\n",
        "\n",
        "\n",
        "\n",
        "\n",
        "\n",
        "\n",
        "\n",
        "\n",
        "\n",
        "\n",
        "\n",
        "\n",
        "\n",
        "\n",
        "\n",
        "\n",
        "#YOUR CODE ENDS HERE#\n",
        "#THIS IS LINE 20#"
      ],
      "metadata": {
        "id": "e_0zT2iK5I6L"
      },
      "execution_count": null,
      "outputs": []
    },
    {
      "cell_type": "markdown",
      "source": [
        "### 1.1.3\n",
        "Initiate time calculation for Part 1."
      ],
      "metadata": {
        "id": "ak-WJ9b06KGA"
      }
    },
    {
      "cell_type": "code",
      "source": [
        "#YOUR CODE STARTS HERE#\n",
        "\n",
        "\n",
        "\n",
        "\n",
        "\n",
        "\n",
        "\n",
        "#YOUR CODE ENDS HERE#\n",
        "#THIS IS LINE 10#"
      ],
      "metadata": {
        "id": "w6qq7CVF8CvH"
      },
      "execution_count": null,
      "outputs": []
    },
    {
      "cell_type": "markdown",
      "source": [
        "###1.1.4\n",
        "Run $k$-means"
      ],
      "metadata": {
        "id": "1Udh3UpS6r7I"
      }
    },
    {
      "cell_type": "code",
      "source": [
        "#YOUR CODE STARTS HERE#\n",
        "\n",
        "\n",
        "\n",
        "\n",
        "\n",
        "\n",
        "\n",
        "#YOUR CODE ENDS HERE#\n",
        "#THIS IS LINE 10#"
      ],
      "metadata": {
        "id": "V02_Ov6R6ypH"
      },
      "execution_count": null,
      "outputs": []
    },
    {
      "cell_type": "markdown",
      "source": [
        "Print Adjusted Rand Index and Time efficiency."
      ],
      "metadata": {
        "id": "hS3KgJBO7A9R"
      }
    },
    {
      "cell_type": "code",
      "execution_count": null,
      "metadata": {
        "id": "qYnNUBbBHSn5"
      },
      "outputs": [],
      "source": [
        "#YOUR CODE STARTS HERE#\n",
        "\n",
        "\n",
        "\n",
        "\n",
        "\n",
        "\n",
        "\n",
        "#YOUR CODE ENDS HERE#\n",
        "#THIS IS LINE 10#"
      ]
    },
    {
      "cell_type": "markdown",
      "source": [
        "Print, for each cluster, wordcloud of 20 most important keyworkds."
      ],
      "metadata": {
        "id": "3YffWFio7VGO"
      }
    },
    {
      "cell_type": "code",
      "source": [
        "#YOUR CODE STARTS HERE#\n",
        "\n",
        "\n",
        "\n",
        "\n",
        "\n",
        "\n",
        "\n",
        "\n",
        "\n",
        "\n",
        "\n",
        "\n",
        "\n",
        "\n",
        "\n",
        "\n",
        "\n",
        "#YOUR CODE ENDS HERE#\n",
        "#THIS IS LINE 20#"
      ],
      "metadata": {
        "id": "3vqoYAKf85J5"
      },
      "execution_count": null,
      "outputs": []
    },
    {
      "cell_type": "markdown",
      "source": [
        "Summarize your results in 4 sentences at most."
      ],
      "metadata": {
        "id": "GReXoSdb9IU3"
      }
    },
    {
      "cell_type": "markdown",
      "source": [
        "------------YOUR TEXT STARTS HERE------------\n"
      ],
      "metadata": {
        "id": "hP0MKciE9Rhy"
      }
    },
    {
      "cell_type": "markdown",
      "source": [
        "## Part 2 - keyword extraction/topic distillation using Latent Semantic Analysis\n",
        "We use Truncated SVD as an alternative baseline. In this case, we use the first $k$ components (singular vectors, with $k = 5$ in our case) of the Truncated SVD as descriptions of the latent topics and we identify the terms that are the most important for each component, as seen in class. Quality will be measured as follows:\n",
        "- Soundness of identified keywords: build word clouds of 20 most important keywords for each cluster\n",
        "- Time efficiency\n",
        "\n",
        "This part must run within a maximum of **15** minutes. To meet this constraint, approximations can be made (using fewer documents, reducing dictionary size). However, these approximations **must be explicitly indicated** in the code."
      ],
      "metadata": {
        "id": "_JfRjx4F9X6t"
      }
    },
    {
      "cell_type": "markdown",
      "source": [
        "### 2.1\n",
        "If you need to, prepare here helper functions to run your computations."
      ],
      "metadata": {
        "id": "jYS4O_wcAAy0"
      }
    },
    {
      "cell_type": "code",
      "source": [
        "#YOUR CODE STARTS HERE#\n",
        "\n",
        "\n",
        "\n",
        "\n",
        "\n",
        "\n",
        "\n",
        "\n",
        "\n",
        "\n",
        "\n",
        "\n",
        "\n",
        "\n",
        "\n",
        "\n",
        "\n",
        "\n",
        "\n",
        "\n",
        "\n",
        "\n",
        "\n",
        "\n",
        "\n",
        "\n",
        "\n",
        "\n",
        "\n",
        "\n",
        "\n",
        "\n",
        "\n",
        "\n",
        "\n",
        "\n",
        "\n",
        "#YOUR CODE ENDS HERE#\n",
        "#THIS IS LINE 40#"
      ],
      "metadata": {
        "id": "eCSRrZGSAAy9"
      },
      "execution_count": null,
      "outputs": []
    },
    {
      "cell_type": "markdown",
      "source": [
        "###2.2\n",
        "If you need to perform further text pre-processing and/or vectorization or redo it from scratch do it here. In this case, comment your code below to explain why you are doing this. Otherwise, leave the next cell empty."
      ],
      "metadata": {
        "id": "el8QVtBVAAy_"
      }
    },
    {
      "cell_type": "code",
      "source": [
        "#YOUR CODE STARTS HERE#\n",
        "\n",
        "\n",
        "\n",
        "\n",
        "\n",
        "\n",
        "\n",
        "\n",
        "\n",
        "\n",
        "\n",
        "\n",
        "\n",
        "\n",
        "\n",
        "\n",
        "\n",
        "#YOUR CODE ENDS HERE#\n",
        "#THIS IS LINE 20#"
      ],
      "metadata": {
        "id": "dKKQgFKBAAzB"
      },
      "execution_count": null,
      "outputs": []
    },
    {
      "cell_type": "markdown",
      "source": [
        "### 2.3\n",
        "Initiate time calculation for Part 2."
      ],
      "metadata": {
        "id": "rPDzmfq6AAzB"
      }
    },
    {
      "cell_type": "code",
      "source": [
        "#YOUR CODE STARTS HERE#\n",
        "\n",
        "\n",
        "\n",
        "\n",
        "\n",
        "\n",
        "\n",
        "#YOUR CODE ENDS HERE#\n",
        "#THIS IS LINE 10#"
      ],
      "metadata": {
        "id": "QabjsuMjAAzC"
      },
      "execution_count": null,
      "outputs": []
    },
    {
      "cell_type": "markdown",
      "source": [
        "###2.4\n",
        "Perform Latent Semantic Analysis"
      ],
      "metadata": {
        "id": "46SFxov4AAzD"
      }
    },
    {
      "cell_type": "code",
      "source": [
        "#YOUR CODE STARTS HERE#\n",
        "\n",
        "\n",
        "\n",
        "\n",
        "\n",
        "\n",
        "\n",
        "#YOUR CODE ENDS HERE#\n",
        "#THIS IS LINE 10#"
      ],
      "metadata": {
        "id": "LO_3SotfAAzD"
      },
      "execution_count": null,
      "outputs": []
    },
    {
      "cell_type": "markdown",
      "source": [
        "Print Time efficiency."
      ],
      "metadata": {
        "id": "Hbw5YGCdAAzE"
      }
    },
    {
      "cell_type": "code",
      "execution_count": null,
      "metadata": {
        "id": "gcNROMqnAAzE"
      },
      "outputs": [],
      "source": [
        "#YOUR CODE STARTS HERE#\n",
        "\n",
        "\n",
        "\n",
        "\n",
        "#YOUR CODE ENDS HERE#\n",
        "#THIS IS LINE 7#"
      ]
    },
    {
      "cell_type": "markdown",
      "source": [
        "Print, for each cluster, wordcloud of 20 most important keyworkds."
      ],
      "metadata": {
        "id": "q3DsY8vfAAzG"
      }
    },
    {
      "cell_type": "code",
      "source": [
        "#YOUR CODE STARTS HERE#\n",
        "\n",
        "\n",
        "\n",
        "\n",
        "\n",
        "\n",
        "\n",
        "\n",
        "\n",
        "\n",
        "\n",
        "\n",
        "\n",
        "\n",
        "\n",
        "\n",
        "\n",
        "#YOUR CODE ENDS HERE#\n",
        "#THIS IS LINE 20#"
      ],
      "metadata": {
        "id": "AydEaLGbAAzH"
      },
      "execution_count": null,
      "outputs": []
    },
    {
      "cell_type": "markdown",
      "source": [
        "Summarize your results in 4 sentences at most."
      ],
      "metadata": {
        "id": "wawG4E9wAAzH"
      }
    },
    {
      "cell_type": "markdown",
      "source": [
        "------------YOUR TEXT STARTS HERE------------\n"
      ],
      "metadata": {
        "id": "-jfnGBo4BZL1"
      }
    },
    {
      "cell_type": "markdown",
      "source": [
        "## Part 3 - keyword extraction/topic distillation using Truncated SVD + $k$-means\n",
        "In this case, we i) first embed documents, i.e., project them onto the space spanned by the first $m$ singular vectors (for a suitable choice of $m$, see further) and then ii) we cluster the $m$-dimensional vectors thus obtained using $k$-means as before. Quality will be measured as follows:\n",
        "- Clustering quality with respect to true labels: Adjusted Rand Index (see scikit-learn documentation about)\n",
        "- Soundness of identified keywords: build word clouds of 20 most important keywords for each cluster\n",
        "- Time efficiency\n",
        "\n",
        "To determine the number $m$ of singular components to keep, use the elbow method to identify a first tentative value and then the adjusted Rand Index to find the right value. For example, if you plot total explained variance for $m$ ranging from $1$ to $100$ (or perhaps even 50), you are likely to see a clear elbow. Assume you identify 30 as a tentative value. To find the best choice for $m$, you can compute the adjusted Rand index of the corresponding clustering for all values of $m$ in a neighbourhood of $30$ (e.g., in the range $\\{25,\\ldots , 35\\}$) and pick the value for which the index is maximum. This is just a simple heuristic, given to you as an example. If you think you found a better one you are free to use it, but you should briefly explain how it works. You are encouraged to use more principled heuristics proposed in the literature to choose $m$, in which case you should provide references about.\n",
        "\n",
        "This part must run within a maximum of **20** minutes. To meet this constraint, approximations can be made (using fewer documents, reducing dictionary size). However, these approximations **must be explicitly indicated** in the code."
      ],
      "metadata": {
        "id": "f_OQZGS4CERh"
      }
    },
    {
      "cell_type": "markdown",
      "source": [
        "### 3.1\n",
        "If you need to, prepare here helper functions to run your computations."
      ],
      "metadata": {
        "id": "TXNz2PZACERj"
      }
    },
    {
      "cell_type": "code",
      "source": [
        "#YOUR CODE STARTS HERE#\n",
        "\n",
        "\n",
        "\n",
        "\n",
        "\n",
        "\n",
        "\n",
        "\n",
        "\n",
        "\n",
        "\n",
        "\n",
        "\n",
        "\n",
        "\n",
        "\n",
        "\n",
        "\n",
        "\n",
        "\n",
        "\n",
        "\n",
        "\n",
        "\n",
        "\n",
        "\n",
        "\n",
        "\n",
        "\n",
        "\n",
        "\n",
        "\n",
        "\n",
        "\n",
        "\n",
        "\n",
        "\n",
        "#YOUR CODE ENDS HERE#\n",
        "#THIS IS LINE 40#"
      ],
      "metadata": {
        "id": "H8AtgciDCERj"
      },
      "execution_count": null,
      "outputs": []
    },
    {
      "cell_type": "markdown",
      "source": [
        "###3.2\n",
        "If you need to perform further text pre-processing and/or vectorization or redo it from scratch do it here. In this case, comment your code below to explain why you are doing this. Otherwise, leave the next cell empty."
      ],
      "metadata": {
        "id": "uVC9pQUgCERk"
      }
    },
    {
      "cell_type": "code",
      "source": [
        "#YOUR CODE STARTS HERE#\n",
        "\n",
        "\n",
        "\n",
        "\n",
        "\n",
        "\n",
        "\n",
        "\n",
        "\n",
        "\n",
        "\n",
        "\n",
        "\n",
        "\n",
        "\n",
        "\n",
        "\n",
        "#YOUR CODE ENDS HERE#\n",
        "#THIS IS LINE 20#"
      ],
      "metadata": {
        "id": "I69H9oxxCERl"
      },
      "execution_count": null,
      "outputs": []
    },
    {
      "cell_type": "markdown",
      "source": [
        "### 3.3\n",
        "Initiate time calculation for Part 3."
      ],
      "metadata": {
        "id": "rs69_OZACERm"
      }
    },
    {
      "cell_type": "code",
      "source": [
        "#YOUR CODE STARTS HERE#\n",
        "\n",
        "\n",
        "\n",
        "\n",
        "\n",
        "\n",
        "\n",
        "#YOUR CODE ENDS HERE#\n",
        "#THIS IS LINE 10#"
      ],
      "metadata": {
        "id": "4Zy0owjvCERm"
      },
      "execution_count": null,
      "outputs": []
    },
    {
      "cell_type": "markdown",
      "source": [
        "###3.4\n",
        "Perform Truncated SVD and identify your best choice for the number $m$ of components to keep. Briefly explain the strategy you adopt to find $m$, using at most 5 lines in the text cell below. If you are simply following the heuristic I suggested above (which I did not test but might do a decent job), please just briefly state this."
      ],
      "metadata": {
        "id": "SiqjeHehCERm"
      }
    },
    {
      "cell_type": "markdown",
      "source": [
        "------------YOUR TEXT STARTS HERE------------\n"
      ],
      "metadata": {
        "id": "lyh17sSxFyh9"
      }
    },
    {
      "cell_type": "markdown",
      "source": [
        "Next, write your code to identify the best value of $m$."
      ],
      "metadata": {
        "id": "w2O92g-ZF7Fe"
      }
    },
    {
      "cell_type": "code",
      "source": [
        "#YOUR CODE STARTS HERE#\n",
        "\n",
        "\n",
        "\n",
        "\n",
        "\n",
        "\n",
        "\n",
        "\n",
        "\n",
        "\n",
        "\n",
        "\n",
        "\n",
        "\n",
        "\n",
        "\n",
        "\n",
        "\n",
        "\n",
        "\n",
        "\n",
        "\n",
        "\n",
        "\n",
        "\n",
        "\n",
        "\n",
        "\n",
        "\n",
        "\n",
        "#YOUR CODE ENDS HERE#\n",
        "#THIS IS LINE 33#"
      ],
      "metadata": {
        "id": "ZwWORCNsGAG2"
      },
      "execution_count": null,
      "outputs": []
    },
    {
      "cell_type": "markdown",
      "source": [
        "###3.5\n",
        "Perform Truncated SVD (again if you did not save the results of the previous computation) with the number $m$ of components identified above. Cluster the projections of the documents onto the first $m$ components using $k$-means ($k = 5$ in our case)."
      ],
      "metadata": {
        "id": "_tfnmsb3GQvs"
      }
    },
    {
      "cell_type": "code",
      "source": [
        "#YOUR CODE STARTS HERE#\n",
        "\n",
        "\n",
        "\n",
        "\n",
        "\n",
        "\n",
        "\n",
        "\n",
        "\n",
        "\n",
        "\n",
        "\n",
        "\n",
        "\n",
        "\n",
        "\n",
        "\n",
        "#YOUR CODE ENDS HERE#\n",
        "#THIS IS LINE 20#"
      ],
      "metadata": {
        "id": "ca3oaXhLG0Ql"
      },
      "execution_count": null,
      "outputs": []
    },
    {
      "cell_type": "markdown",
      "source": [
        "Print Time efficiency."
      ],
      "metadata": {
        "id": "REIqg0A5CERn"
      }
    },
    {
      "cell_type": "code",
      "execution_count": null,
      "metadata": {
        "id": "_Zywjqy8CERo"
      },
      "outputs": [],
      "source": [
        "#YOUR CODE STARTS HERE#\n",
        "\n",
        "\n",
        "\n",
        "\n",
        "#YOUR CODE ENDS HERE#\n",
        "#THIS IS LINE 7#"
      ]
    },
    {
      "cell_type": "markdown",
      "source": [
        "Print, for each cluster, wordcloud of 20 most important keyworkds."
      ],
      "metadata": {
        "id": "IVmmreWgCERo"
      }
    },
    {
      "cell_type": "code",
      "source": [
        "#YOUR CODE STARTS HERE#\n",
        "\n",
        "\n",
        "\n",
        "\n",
        "\n",
        "\n",
        "\n",
        "\n",
        "\n",
        "\n",
        "\n",
        "\n",
        "\n",
        "\n",
        "\n",
        "\n",
        "\n",
        "#YOUR CODE ENDS HERE#\n",
        "#THIS IS LINE 20#"
      ],
      "metadata": {
        "id": "07ooG0GACERo"
      },
      "execution_count": null,
      "outputs": []
    },
    {
      "cell_type": "markdown",
      "source": [
        "Summarize your results in 4 sentences at most."
      ],
      "metadata": {
        "id": "0wL5W4e8CERo"
      }
    },
    {
      "cell_type": "markdown",
      "source": [
        "------------YOUR TEXT STARTS HERE------------\n"
      ],
      "metadata": {
        "id": "o4xa9QxgCERp"
      }
    }
  ],
  "metadata": {
    "kernelspec": {
      "display_name": "Python 3",
      "language": "python",
      "name": "python3"
    },
    "language_info": {
      "codemirror_mode": {
        "name": "ipython",
        "version": 3
      },
      "file_extension": ".py",
      "mimetype": "text/x-python",
      "name": "python",
      "nbconvert_exporter": "python",
      "pygments_lexer": "ipython3",
      "version": "3.5.2"
    },
    "colab": {
      "provenance": [],
      "include_colab_link": true
    }
  },
  "nbformat": 4,
  "nbformat_minor": 0
}
